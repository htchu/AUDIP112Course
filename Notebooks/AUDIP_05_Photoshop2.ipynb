{
  "nbformat": 4,
  "nbformat_minor": 0,
  "metadata": {
    "colab": {
      "provenance": [],
      "gpuType": "T4"
    },
    "kernelspec": {
      "name": "python3",
      "display_name": "Python 3"
    },
    "language_info": {
      "name": "python"
    },
    "accelerator": "GPU"
  },
  "cells": [
    {
      "cell_type": "markdown",
      "source": [
        "<img src=\"https://qph.cf2.quoracdn.net/main-qimg-0e17ee22d9473a90f8da7c867794f88f\" alt=\"2022-09-19-004719\" border=\"0\">\n",
        "\n",
        "# W5-Photoshop技巧和項目實作\n"
      ],
      "metadata": {
        "id": "MG4GvvmHdW6N"
      }
    },
    {
      "cell_type": "markdown",
      "source": [
        "# 文字打凸紙張效果\n",
        "https://creativecloud.adobe.com/cc/learn/photoshop/in-app/text-embossed-paper-effect?locale=zh-Hant"
      ],
      "metadata": {
        "id": "3PjMTtt2piH7"
      }
    },
    {
      "cell_type": "markdown",
      "source": [
        "# 白色物體上色與明暗強化\n",
        "https://creativecloud.adobe.com/cc/learn/photoshop/in-app/white-object-coloring-and-shading-enhancement?locale=zh-Hant"
      ],
      "metadata": {
        "id": "t3h1KC6BplA2"
      }
    },
    {
      "cell_type": "markdown",
      "source": [
        "# 文字半色調網屏效果\n",
        "https://creativecloud.adobe.com/cc/learn/photoshop/in-app/text-halftone-effect?locale=zh-Hant"
      ],
      "metadata": {
        "id": "0V3eR8PlplEH"
      }
    },
    {
      "cell_type": "markdown",
      "source": [
        "# 像素文字馬賽克\n",
        "https://creativecloud.adobe.com/cc/learn/photoshop/in-app/pixel-text-mosaic?locale=zh-Hant"
      ],
      "metadata": {
        "id": "SHOQUp5PplG0"
      }
    },
    {
      "cell_type": "markdown",
      "source": [
        "# 使用混合範圍合成噴漆\n",
        "https://creativecloud.adobe.com/cc/learn/photoshop/in-app/synthetic-spray-paint?locale=zh-Hant"
      ],
      "metadata": {
        "id": "sZAt72yzplJR"
      }
    },
    {
      "cell_type": "markdown",
      "source": [
        "# GIF動態中秋賀卡\n",
        "https://creativecloud.adobe.com/cc/learn/photoshop/in-app/mid-autumn-gif-greeting-card?locale=zh-Hant"
      ],
      "metadata": {
        "id": "pxnDSoEgplMF"
      }
    },
    {
      "cell_type": "markdown",
      "source": [
        "# 立體紙雕卡片\n",
        "https://creativecloud.adobe.com/cc/learn/photoshop/in-app/3d-paper-carving-card?locale=zh-Hant"
      ],
      "metadata": {
        "id": "kzrVujgEplOq"
      }
    },
    {
      "cell_type": "markdown",
      "source": [
        "# 燙銀效果卡片\n",
        "https://creativecloud.adobe.com/cc/learn/photoshop/in-app/foil-effect-card?locale=zh-Hant"
      ],
      "metadata": {
        "id": "TyrUWMHkplRW"
      }
    },
    {
      "cell_type": "markdown",
      "source": [
        "# 使用平滑過渡效果組合多張影像\n",
        "https://creativecloud.adobe.com/cc/learn/photoshop/web/blend-two-images-gradient?locale=zh-Hant"
      ],
      "metadata": {
        "id": "y2o319sTplT7"
      }
    },
    {
      "cell_type": "markdown",
      "source": [
        "# 聚焦於主體上，使其餘部分都模糊\n",
        "https://creativecloud.adobe.com/cc/learn/photoshop/web/blur-background-for-focal-point?locale=zh-Hant"
      ],
      "metadata": {
        "id": "osKYJC7qplWh"
      }
    },
    {
      "cell_type": "markdown",
      "source": [
        "# 改變物件顏色\n",
        "https://creativecloud.adobe.com/cc/learn/photoshop/web/change-color-object?locale=zh-Hant"
      ],
      "metadata": {
        "id": "fXQOPV7CplYw"
      }
    },
    {
      "cell_type": "code",
      "execution_count": null,
      "metadata": {
        "id": "Fkk3DSB8dJJq"
      },
      "outputs": [],
      "source": []
    }
  ]
}