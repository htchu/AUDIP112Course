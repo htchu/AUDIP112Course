{
  "nbformat": 4,
  "nbformat_minor": 0,
  "metadata": {
    "colab": {
      "provenance": [],
      "gpuType": "T4"
    },
    "kernelspec": {
      "name": "python3",
      "display_name": "Python 3"
    },
    "language_info": {
      "name": "python"
    },
    "accelerator": "GPU"
  },
  "cells": [
    {
      "cell_type": "markdown",
      "source": [
        "<img src=\"https://qph.cf2.quoracdn.net/main-qimg-0e17ee22d9473a90f8da7c867794f88f\" alt=\"2022-09-19-004719\" border=\"0\">\n",
        "\n",
        "# W4-Photoshop基本工具和介面\n"
      ],
      "metadata": {
        "id": "MG4GvvmHdW6N"
      }
    },
    {
      "cell_type": "markdown",
      "source": [
        "# 線上Photoshop 工具\n",
        "https://photoshop.adobe.com/"
      ],
      "metadata": {
        "id": "kg2z_Nzjjy4N"
      }
    },
    {
      "cell_type": "markdown",
      "source": [
        "# Get to Know Adobe Photoshop\n",
        "https://youtu.be/O92mOGLXXu4"
      ],
      "metadata": {
        "id": "usL0qjQ7j8PJ"
      }
    },
    {
      "cell_type": "markdown",
      "source": [
        "# Design Your Fantasy World in Photoshop (beta) | Tutorial for Beginners\n",
        "https://youtu.be/FUEb5l7YSmc"
      ],
      "metadata": {
        "id": "8acyV72Dno6o"
      }
    },
    {
      "cell_type": "markdown",
      "source": [
        "# Photoshop CC: 10 Things Beginners Want to Know How To Do\n",
        "\n",
        "https://youtu.be/w47hA7dosjY\n",
        "\n",
        "1. How to touch up a photo; how to make people look better\n",
        "1. Layers and adjustment layers; what are they and how to use them\n",
        "1. Working with layer masks\n",
        "1. How to crop a photo\n",
        "1. Adjusting the exposure and using the Adobe Camera Raw filter\n",
        "1. Removing something from an image\n",
        "1. Move or copy objects in a photo\n",
        "1. How to put a person from one photo onto a new background (or putting two photos together)\n",
        "1. How to add text\n",
        "1. Saving photos and saving formats that are shareable"
      ],
      "metadata": {
        "id": "qlyVBvKYlrVd"
      }
    }
  ]
}