{
  "nbformat": 4,
  "nbformat_minor": 0,
  "metadata": {
    "colab": {
      "provenance": [],
      "gpuType": "T4"
    },
    "kernelspec": {
      "name": "python3",
      "display_name": "Python 3"
    },
    "language_info": {
      "name": "python"
    },
    "accelerator": "GPU"
  },
  "cells": [
    {
      "cell_type": "markdown",
      "source": [
        "<img src=\"https://qph.cf2.quoracdn.net/main-qimg-0e17ee22d9473a90f8da7c867794f88f\" alt=\"2022-09-19-004719\" border=\"0\">\n",
        "\n",
        "# W5-Photoshop技巧和項目實作\n"
      ],
      "metadata": {
        "id": "MG4GvvmHdW6N"
      }
    },
    {
      "cell_type": "code",
      "execution_count": null,
      "metadata": {
        "id": "Fkk3DSB8dJJq"
      },
      "outputs": [],
      "source": []
    }
  ]
}