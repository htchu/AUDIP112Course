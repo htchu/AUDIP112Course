{
  "nbformat": 4,
  "nbformat_minor": 0,
  "metadata": {
    "colab": {
      "provenance": [],
      "gpuType": "T4"
    },
    "kernelspec": {
      "name": "python3",
      "display_name": "Python 3"
    },
    "language_info": {
      "name": "python"
    },
    "accelerator": "GPU"
  },
  "cells": [
    {
      "cell_type": "markdown",
      "source": [
        "<img src=\"https://encrypted-tbn0.gstatic.com/images?q=tbn:ANd9GcSYJ6HmqAPxVNFUA2HvB66_5X_Od1vZaORIJw&usqp=CAU\" alt=\"2022-09-19-004719\" border=\"0\">\n",
        "\n",
        "# W7-Illustrator 技巧和項目實踐\n"
      ],
      "metadata": {
        "id": "MG4GvvmHdW6N"
      }
    },
    {
      "cell_type": "markdown",
      "source": [
        "https://helpx.adobe.com/tw/illustrator/user-guide.html"
      ],
      "metadata": {
        "id": "yVJ-5VYsyQXY"
      }
    },
    {
      "cell_type": "markdown",
      "source": [
        "## 嘗試顏色組合\n",
        "\n",
        "https://creativecloud.adobe.com/cc/learn/illustrator/in-app/experiment-with-color-combinations?locale=zh-Hant"
      ],
      "metadata": {
        "id": "ohTckCfzSrJ_"
      }
    },
    {
      "cell_type": "markdown",
      "source": [
        "## 探索顏色對比和振動\n",
        "https://creativecloud.adobe.com/cc/learn/illustrator/in-app/explore-color-contrast-and-vibration?locale=zh-Hant"
      ],
      "metadata": {
        "id": "AELGrCKbTBzJ"
      }
    },
    {
      "cell_type": "markdown",
      "source": [
        "## 將顏色技能付諸實踐\n",
        "\n",
        "https://creativecloud.adobe.com/cc/learn/illustrator/in-app/put-your-color-skills-into-practice?locale=zh-Hant"
      ],
      "metadata": {
        "id": "4cyRE7bQTGbE"
      }
    },
    {
      "cell_type": "markdown",
      "source": [
        "## RISO印刷風格插畫\n",
        "https://creativecloud.adobe.com/cc/learn/illustrator/in-app/riso-typography-style-illustration?locale=zh-Hant"
      ],
      "metadata": {
        "id": "6v5pTl9_TSFj"
      }
    },
    {
      "cell_type": "markdown",
      "source": [
        "## 文字圍繞形狀海報\n",
        "https://creativecloud.adobe.com/cc/learn/illustrator/in-app/text-around-shape?locale=zh-Hant"
      ],
      "metadata": {
        "id": "P-NpQ509TXeQ"
      }
    },
    {
      "cell_type": "markdown",
      "source": [
        "## 製作郵票框\n",
        "https://creativecloud.adobe.com/cc/learn/illustrator/in-app/make-a-stamp-frame?locale=zh-Hant"
      ],
      "metadata": {
        "id": "wk-bdWmiTbIt"
      }
    }
  ]
}