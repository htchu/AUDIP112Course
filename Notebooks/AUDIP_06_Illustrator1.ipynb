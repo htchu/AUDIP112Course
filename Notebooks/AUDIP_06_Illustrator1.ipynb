{
  "nbformat": 4,
  "nbformat_minor": 0,
  "metadata": {
    "colab": {
      "provenance": [],
      "gpuType": "T4"
    },
    "kernelspec": {
      "name": "python3",
      "display_name": "Python 3"
    },
    "language_info": {
      "name": "python"
    },
    "accelerator": "GPU"
  },
  "cells": [
    {
      "cell_type": "markdown",
      "source": [
        "<img src=\"https://encrypted-tbn0.gstatic.com/images?q=tbn:ANd9GcQ00CHCEsKCumnQ8AnPVJouI_wyN86EWyrRDw&usqp=CAU\" alt=\"2022-09-19-004719\" border=\"0\">\n",
        "\n",
        "# W6-Illustrator 基礎和工具介紹\n"
      ],
      "metadata": {
        "id": "MG4GvvmHdW6N"
      }
    },
    {
      "cell_type": "code",
      "execution_count": null,
      "metadata": {
        "id": "Fkk3DSB8dJJq"
      },
      "outputs": [],
      "source": []
    }
  ]
}