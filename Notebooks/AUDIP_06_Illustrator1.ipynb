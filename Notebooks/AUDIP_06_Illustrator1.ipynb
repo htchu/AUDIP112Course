{
  "nbformat": 4,
  "nbformat_minor": 0,
  "metadata": {
    "colab": {
      "provenance": [],
      "gpuType": "T4"
    },
    "kernelspec": {
      "name": "python3",
      "display_name": "Python 3"
    },
    "language_info": {
      "name": "python"
    },
    "accelerator": "GPU"
  },
  "cells": [
    {
      "cell_type": "markdown",
      "source": [
        "<img src=\"https://encrypted-tbn0.gstatic.com/images?q=tbn:ANd9GcSYJ6HmqAPxVNFUA2HvB66_5X_Od1vZaORIJw&usqp=CAU\" alt=\"2022-09-19-004719\" border=\"0\">\n",
        "\n",
        "# W6-Illustrator基本工具和介面\n",
        "\n"
      ],
      "metadata": {
        "id": "MG4GvvmHdW6N"
      }
    },
    {
      "cell_type": "markdown",
      "source": [
        "## Illustrator 使用者指南\n",
        "https://helpx.adobe.com/tw/illustrator/user-guide.html\n"
      ],
      "metadata": {
        "id": "mH0_qMGeSi5N"
      }
    },
    {
      "cell_type": "markdown",
      "source": [
        "# Take a tour of the app 插畫家(Illustrator)\n",
        "歡迎來到插畫家(Illustrator)！ 在本教程中，您將在探索基本功能和工具的同時對海報進行一些更改。\n",
        "https://creativecloud.adobe.com/cc/learn/illustrator/in-app/take-a-tour-of-the-app?locale=en"
      ],
      "metadata": {
        "id": "usL0qjQ7j8PJ"
      }
    },
    {
      "cell_type": "markdown",
      "source": [
        "## Get started with text\n",
        "\n",
        "https://creativecloud.adobe.com/cc/learn/illustrator/in-app/get-started-with-text?locale=en\n"
      ],
      "metadata": {
        "id": "304IA0aYwdCm"
      }
    },
    {
      "cell_type": "markdown",
      "source": [
        "## shapes\n",
        "\n",
        "https://creativecloud.adobe.com/cc/learn/illustrator/in-app/explore-shapes?locale=en"
      ],
      "metadata": {
        "id": "2Mi6dPyZwnNO"
      }
    },
    {
      "cell_type": "markdown",
      "source": [
        "## color\n",
        "https://creativecloud.adobe.com/cc/learn/illustrator/in-app/jump-into-color?locale=en"
      ],
      "metadata": {
        "id": "sPhpVwrbw1O6"
      }
    },
    {
      "cell_type": "markdown",
      "source": [
        "# Adobe Illustrator for Beginners\n",
        "\n",
        "https://youtu.be/Ib8UBwu3yGA\n",
        "\n",
        "1. 簡介\n",
        "     * 00:00:00 1.1 歡迎來到本課程\n",
        "     * 00:01:43 1.2 入門\n",
        "\n",
        "2. 如何在 Illustrator 中繪圖\n",
        "     * 00:07:42 2.1 設定我們的文檔\n",
        "     * 00:12:10 2.2 用形狀和線條繪圖\n",
        "     * 00:33:30 2.3 分組與排列\n",
        "     * 00:46:54 2.4 使用形狀產生器工具繪圖\n",
        "     * 01:01:12 2.5 練習：繪製自訂徽標\n",
        "     * 01:11:31 2.6 如何使用 Illustrator 中的曲率工具\n",
        "     * 01:29:14 2.7 如何使用 Illustrator 中的鋼筆工具\n",
        "     * 01:40:58 2.8 如何使用 Illustrator 的鉛筆工具\n",
        "     * 01:51:23 2.9 使用畫筆\n",
        "\n",
        "3. 顏色\n",
        "     * 01:58:55 3.1 使用顏色\n",
        "     * 02:07:04 3.2 如何使用 Illustrator 中的漸層工具\n",
        "\n",
        "4. 類型和字體\n",
        "     * 02:13:39 4.1 如何在 Illustrator 中使用文字和字體\n",
        "\n",
        "5. Illustrator 中的效果和圖案\n",
        "     * 02:23:47 5.1 Illustrator 中的液化和扭曲\n",
        "     * 02:35:05 5.2 彎曲和變形形狀和文本\n",
        "     * 02:41:59 5.3 如何在 Illustrator 中製作圖案\n",
        "     * 02:53:44 5.4 如何在 Illustrator 中向量化影像\n",
        "\n",
        "6. 導出\n",
        "     * 03:04:33 6.1 匯出列印和網頁"
      ],
      "metadata": {
        "id": "qlyVBvKYlrVd"
      }
    }
  ]
}